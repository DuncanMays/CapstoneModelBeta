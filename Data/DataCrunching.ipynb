{
 "cells": [
  {
   "cell_type": "code",
   "execution_count": 68,
   "metadata": {},
   "outputs": [],
   "source": [
    "import pandas as pd\n",
    "import numpy as np\n",
    "from matplotlib import pyplot as plt\n",
    "import math"
   ]
  },
  {
   "cell_type": "code",
   "execution_count": 34,
   "metadata": {},
   "outputs": [],
   "source": [
    "'''This is just where I brought in data from an excel spreadsheet.'''\n",
    "#hourlydata = pd.read_excel('fuelbyhour.xlsx')"
   ]
  },
  {
   "cell_type": "code",
   "execution_count": 35,
   "metadata": {},
   "outputs": [],
   "source": [
    "'''Remove the year as its always the same'''\n",
    "hourlydata = hourlydata.drop(['DeliveryYear'],axis=1)"
   ]
  },
  {
   "cell_type": "code",
   "execution_count": null,
   "metadata": {
    "scrolled": true
   },
   "outputs": [],
   "source": [
    "'''Fills in the hour for the types as it read as NaN.'''\n",
    "for j in range(len(hourlydata)-1):\n",
    "    if math.isnan(hourlydata.iloc[j+1,1]) == True:\n",
    "        hourlydata.iloc[j+1,1] = hourlydata.iloc[j,1]\n",
    "hourlydata"
   ]
  },
  {
   "cell_type": "code",
   "execution_count": 99,
   "metadata": {},
   "outputs": [],
   "source": [
    "'''Fills in the date on the entries.'''\n",
    "Na = hourlydata['Day'].isna()\n",
    "for j in range(len(hourlydata)-1):\n",
    "    if Na[j+1] == True:\n",
    "        hourlydata.iloc[j+1,0] = hourlydata.iloc[j,0]"
   ]
  },
  {
   "cell_type": "code",
   "execution_count": 145,
   "metadata": {},
   "outputs": [],
   "source": [
    "'''Converts from integer to float because python wants that for some reason.'''\n",
    "for i in range(len(workingframe)):\n",
    "    workingframe.iloc[i,2] = float(workingframe.iloc[i,2])"
   ]
  },
  {
   "cell_type": "code",
   "execution_count": 165,
   "metadata": {},
   "outputs": [],
   "source": [
    "'''Puts the data together nicely as \"newframe\" '''\n",
    "newframe = (workingframe.groupby(['Day','Hour','Fuel'])['Output'].mean())"
   ]
  },
  {
   "cell_type": "code",
   "execution_count": 168,
   "metadata": {},
   "outputs": [],
   "source": [
    "'''Sends the structure to a pickle for use in other scripts'''\n",
    "newframe.to_pickle('EnergyOutput')"
   ]
  },
  {
   "cell_type": "code",
   "execution_count": 169,
   "metadata": {},
   "outputs": [
    {
     "data": {
      "text/plain": [
       "Day         Hour  Fuel   \n",
       "2018-01-01  1.0   BIOFUEL        3.000000\n",
       "                  GAS         1583.000000\n",
       "                  HYDRO       4152.000000\n",
       "                  NUCLEAR    11671.000000\n",
       "                  SOLAR          0.000000\n",
       "                  WIND         992.000000\n",
       "            2.0   BIOFUEL        1.000000\n",
       "                  GAS         1192.000000\n",
       "                  HYDRO       4093.000000\n",
       "                  NUCLEAR    11672.000000\n",
       "                  SOLAR          0.000000\n",
       "                  WIND        1124.000000\n",
       "            3.0   BIOFUEL        0.000000\n",
       "                  GAS         1040.000000\n",
       "                  HYDRO       4231.000000\n",
       "                  NUCLEAR    11672.000000\n",
       "                  SOLAR          0.000000\n",
       "                  WIND        1265.000000\n",
       "            4.0   BIOFUEL        0.000000\n",
       "                  GAS         1041.000000\n",
       "                  HYDRO       3895.000000\n",
       "                  NUCLEAR    11669.000000\n",
       "                  SOLAR          0.000000\n",
       "                  WIND        1369.000000\n",
       "            5.0   BIOFUEL        0.000000\n",
       "                  GAS         1004.000000\n",
       "                  HYDRO       3271.000000\n",
       "                  NUCLEAR    11674.000000\n",
       "                  SOLAR          0.000000\n",
       "                  WIND        1848.000000\n",
       "                                 ...     \n",
       "nan         20.0  BIOFUEL       63.338983\n",
       "                  GAS         1715.258475\n",
       "                  HYDRO       4875.665254\n",
       "                  NUCLEAR    10157.830508\n",
       "                  SOLAR          3.105932\n",
       "                  WIND        1281.690678\n",
       "            21.0  BIOFUEL       60.898305\n",
       "                  GAS         1606.207627\n",
       "                  HYDRO       4669.533898\n",
       "                  NUCLEAR    10156.805085\n",
       "                  SOLAR          1.271186\n",
       "                  WIND        1325.411017\n",
       "            22.0  BIOFUEL       50.322034\n",
       "                  GAS         1285.190678\n",
       "                  HYDRO       4291.483051\n",
       "                  NUCLEAR    10147.080508\n",
       "                  SOLAR          1.305085\n",
       "                  WIND        1312.995763\n",
       "            23.0  BIOFUEL       32.190678\n",
       "                  GAS          855.326271\n",
       "                  HYDRO       3888.453390\n",
       "                  NUCLEAR    10143.334746\n",
       "                  SOLAR          1.406780\n",
       "                  WIND        1256.737288\n",
       "            24.0  BIOFUEL       18.716102\n",
       "                  GAS          576.216102\n",
       "                  HYDRO       3573.300847\n",
       "                  NUCLEAR    10130.466102\n",
       "                  SOLAR          1.436441\n",
       "                  WIND        1185.135593\n",
       "Name: Output, Length: 18955, dtype: float64"
      ]
     },
     "execution_count": 169,
     "metadata": {},
     "output_type": "execute_result"
    }
   ],
   "source": [
    "newframe"
   ]
  },
  {
   "cell_type": "code",
   "execution_count": null,
   "metadata": {},
   "outputs": [],
   "source": []
  }
 ],
 "metadata": {
  "kernelspec": {
   "display_name": "Python 3",
   "language": "python",
   "name": "python3"
  },
  "language_info": {
   "codemirror_mode": {
    "name": "ipython",
    "version": 3
   },
   "file_extension": ".py",
   "mimetype": "text/x-python",
   "name": "python",
   "nbconvert_exporter": "python",
   "pygments_lexer": "ipython3",
   "version": "3.7.3"
  }
 },
 "nbformat": 4,
 "nbformat_minor": 2
}
